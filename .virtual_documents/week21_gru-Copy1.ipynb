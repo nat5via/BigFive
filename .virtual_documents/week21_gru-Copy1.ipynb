import tensorflow as tf
from sklearn.model_selection import train_test_split
from tensorflow.keras.preprocessing.text import Tokenizer
from tensorflow.keras.preprocessing.sequence import pad_sequences
from tensorflow.keras.models import Sequential
from tensorflow.keras.layers import LSTM, Embedding, Dense
import numpy as np
import pandas as pd
import matplotlib.pyplot as plt
from keras.layers import GRU


# Load dataset
file_path = 'dataset_final_preprocess_2.csv'  # Ganti dengan path dataset Anda
data = pd.read_csv(file_path)

data.head(5)


X = data['tokens_stemmed']
y = data['Label']

# Split the data into training and testing sets
X_train, X_test, y_train, y_test = train_test_split(X, y, test_size=0.2, random_state=42)


EMBEDDING_SIZE = 100
MAXLEN = 50
TRUNCATING = 'post'
PADDING = 'pre'
OOV_TOKEN = "<OOV>"
MAX_EXAMPLES = 160000


# Buat tokenizer dan sesuaikan dengan X_train
tokenizer = Tokenizer(oov_token=OOV_TOKEN)
tokenizer.fit_on_texts(X_train)


def seq_pad_and_trunc(sentences, tokenizer, padding, truncating, maxlen):
    # Convert sentences to sequences
    sequences = tokenizer.texts_to_sequences(sentences)
    
    # Pad the sequences using the correct padding, truncating and maxlen
    pad_trunc_sequences = pad_sequences(sequences, maxlen=maxlen, padding=PADDING, truncating=truncating)
    
    ### END CODE HERE
    
    return pad_trunc_sequences


train_pad_trunc_seq = seq_pad_and_trunc(X_train, tokenizer, PADDING, TRUNCATING, MAXLEN)
val_pad_trunc_seq = seq_pad_and_trunc(X_test, tokenizer, PADDING, TRUNCATING, MAXLEN)

print(f"Padded and truncated training sequences have shape: {train_pad_trunc_seq.shape}\n")
print(f"Padded and truncated validation sequences have shape: {val_pad_trunc_seq.shape}")


y_train = np.array(y_train) - 1
y_test = np.array(y_test) - 1

# GRU Model
gru_model = Sequential([
    Embedding(input_dim=5000, output_dim=128, input_length=MAXLEN),
    GRU(64, return_sequences=True),
    GRU(32),
    Dense(5, activation='softmax')
])

gru_model.compile(optimizer='adam', loss='sparse_categorical_crossentropy', metrics=['accuracy'])

# Training
history = gru_model.fit(train_pad_trunc_seq, y_train, epochs=10, validation_data=(val_pad_trunc_seq, y_test), batch_size=32)


# Plot accuracy
plt.plot(history.history['accuracy'], label='Train Accuracy')
plt.plot(history.history['val_accuracy'], label='Validation Accuracy')
plt.title('Model Accuracy')
plt.ylabel('Accuracy')
plt.xlabel('Epoch')
plt.legend(loc='upper left')
plt.show()

# Plot loss
plt.plot(history.history['loss'], label='Train Loss')
plt.plot(history.history['val_loss'], label='Validation Loss')
plt.title('Model Loss')
plt.ylabel('Loss')
plt.xlabel('Epoch')
plt.legend(loc='upper left')
plt.show()



